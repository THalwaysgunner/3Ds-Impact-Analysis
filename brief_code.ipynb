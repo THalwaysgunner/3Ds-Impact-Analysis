{
 "cells": [
  {
   "cell_type": "markdown",
   "metadata": {},
   "source": [
    "# libraries"
   ]
  },
  {
   "cell_type": "code",
   "execution_count": null,
   "metadata": {},
   "outputs": [],
   "source": [
    "import pandas as pd\n",
    "import os\n",
    "import numpy as np\n",
    "%matplotlib inline\n",
    "import matplotlib.pyplot as plt\n",
    "import pandas_profiling\n",
    "import seaborn as sn \n",
    "\n",
    "import json\n",
    "import requests\n",
    "\n",
    "from sklearn.model_selection import train_test_split"
   ]
  },
  {
   "cell_type": "markdown",
   "metadata": {},
   "source": [
    "# import & merge data"
   ]
  },
  {
   "cell_type": "code",
   "execution_count": null,
   "metadata": {},
   "outputs": [],
   "source": [
    "path = os.getcwd()\n",
    "missing_values = [\"n/a\", \"na\", \"--\"]\n",
    "data1 = pd.read_csv(path + '/dfJan_Jun_2018.csv',na_values = missing_values)\n",
    "data2 = pd.read_csv('/Users/haimatias/Desktop/****.out.csv')\n",
    "data3 = pd.read_csv('/Users/haimatias/Desktop/****.out.csv', encoding='cp1252',error_bad_lines=True)\n",
    "frames = [data1,data2,data3]\n",
    "full_data = pd.concat(frames)"
   ]
  },
  {
   "cell_type": "markdown",
   "metadata": {},
   "source": [
    "# 3D data preprocessing & cleaning"
   ]
  },
  {
   "cell_type": "markdown",
   "metadata": {},
   "source": [
    "##### data profiling -> observing highly correlated/skewed/cardinality values\n",
    "##### save to report file"
   ]
  },
  {
   "cell_type": "code",
   "execution_count": null,
   "metadata": {},
   "outputs": [],
   "source": [
    "data_profiling = pandas_profiling.ProfileReport(full_data)\n",
    "data_profiling.to_file(outputfile='Data_Profile.html')"
   ]
  },
  {
   "cell_type": "code",
   "execution_count": null,
   "metadata": {},
   "outputs": [],
   "source": [
    "full_data['SECURE_3D_DESC'].fillna(0, inplace=True)\n",
    "non_3D_secure = full_data[full_data['SECURE_3D']==0]\n",
    "3D_secure = full_data[full_data['SECURE_3D']!=0]"
   ]
  },
  {
   "cell_type": "code",
   "execution_count": null,
   "metadata": {},
   "outputs": [],
   "source": [
    "3D_secure['APPROVED'] = np.where(3D_secure ['APPROVED_AMNT']==0, 0, 1)\n",
    "non_3D_secure['APPROVED'] = np.where(non_3D_secure['APPROVED_AMNT']==0, 0, 1)"
   ]
  },
  {
   "cell_type": "markdown",
   "metadata": {},
   "source": [
    "##### missing data , repalce & drop"
   ]
  },
  {
   "cell_type": "code",
   "execution_count": null,
   "metadata": {},
   "outputs": [],
   "source": [
    "3D_secure.isna().sum()\n",
    "3D_secure['****'].fillna('method', inplace=True)\n",
    "3D_secure.drop(['*****'],axis=1,inplace =True)"
   ]
  },
  {
   "cell_type": "markdown",
   "metadata": {},
   "source": [
    "##### value normalization"
   ]
  },
  {
   "cell_type": "code",
   "execution_count": null,
   "metadata": {},
   "outputs": [],
   "source": [
    "3D_secure['****'] = StandardScaler().fit_transform(3D_secure['****'].values.reshape(-1,1)                                                    "
   ]
  },
  {
   "cell_type": "markdown",
   "metadata": {},
   "source": [
    "##### correlation map"
   ]
  },
  {
   "cell_type": "code",
   "execution_count": null,
   "metadata": {},
   "outputs": [],
   "source": [
    "## Correlation Matrix\n",
    "sn.set(style=\"white\")\n",
    "\n",
    "# Compute the correlation matrix\n",
    "corr = 3D_secure.corr()\n",
    "corr.head()\n",
    "# Generate a mask for the upper triangle\n",
    "mask = np.zeros_like(corr, dtype=np.bool)\n",
    "mask[np.triu_indices_from(mask)] = True\n",
    "\n",
    "# Set up the matplotlib figure\n",
    "f, ax = plt.subplots(figsize=(18, 15))\n",
    "\n",
    "# Generate a custom diverging colormap\n",
    "cmap = sn.diverging_palette(220, 10, as_cmap=True)\n",
    "\n",
    "# Draw the heatmap with the mask and correct aspect ratio\n",
    "sn.heatmap(corr, mask=mask, cmap=cmap, vmax=.3, center=0,\n",
    "            square=True, linewidths=.5, cbar_kws={\"shrink\": .5})"
   ]
  },
  {
   "cell_type": "markdown",
   "metadata": {},
   "source": [
    "# 3DSecure acceptance rate vs lost transaction"
   ]
  },
  {
   "cell_type": "code",
   "execution_count": null,
   "metadata": {},
   "outputs": [],
   "source": [
    "3D_secure['APPROVED_AMNT'].value_counts(normalize=True)"
   ]
  },
  {
   "cell_type": "code",
   "execution_count": null,
   "metadata": {},
   "outputs": [],
   "source": [
    "non_3D_secure['APPROVED_AMNT'].value_counts(normalize=True)"
   ]
  },
  {
   "cell_type": "markdown",
   "metadata": {},
   "source": [
    "# 3D acceptance rate by CC type"
   ]
  },
  {
   "cell_type": "code",
   "execution_count": null,
   "metadata": {},
   "outputs": [],
   "source": [
    "3D_secure_approved['CARD_SCHEME_DESC'].value_counts(normalize=True)\n",
    "non_3D_secure_approved['CARD_SCHEME_DESC'].value_counts(normalize=True)"
   ]
  },
  {
   "cell_type": "markdown",
   "metadata": {},
   "source": [
    "# 3D acceptance rate by currencies"
   ]
  },
  {
   "cell_type": "code",
   "execution_count": null,
   "metadata": {},
   "outputs": [],
   "source": [
    "3D_app_USD = 3D_secure_approved[3D_secure_approved['TRX_CURRENCY']=='USD']\n",
    "3D_app_GBP = 3D_secure_approved[3D_secure_approved['TRX_CURRENCY']=='GBP']\n",
    "3D_app_EUR = 3D_secure_approved[3D_secure_approved['TRX_CURRENCY']=='EUR']"
   ]
  },
  {
   "cell_type": "code",
   "execution_count": null,
   "metadata": {},
   "outputs": [],
   "source": [
    "3D_app_USD['APPROVED_AMNT'].value_counts(normalize=True)\n",
    "3D_app_GBP['APPROVED_AMNT'].value_counts(normalize=True)\n",
    "3D_app_EUR['APPROVED_AMNT'].value_counts(normalize=True)"
   ]
  },
  {
   "cell_type": "markdown",
   "metadata": {},
   "source": [
    "# 3D vs regular transaction -avg/med approved amnt by currencies "
   ]
  },
  {
   "cell_type": "code",
   "execution_count": null,
   "metadata": {},
   "outputs": [],
   "source": [
    "print('###########   EUR   ###########')\n",
    "print(datanot3dapp_EUR['APPROVED_AMNT'].mean())\n",
    "print(datanot3dapp_EUR['APPROVED_AMNT'].median())\n",
    "print('###########   GBP   ###########')\n",
    "print(datanot3dapp_GBP['APPROVED_AMNT'].mean())\n",
    "print(datanot3dapp_GBP['APPROVED_AMNT'].median())\n",
    "print('###########   USD   ###########')\n",
    "print(datanot3dapp_USD['APPROVED_AMNT'].mean())\n",
    "print(datanot3dapp_USD['APPROVED_AMNT'].median())"
   ]
  },
  {
   "cell_type": "code",
   "execution_count": null,
   "metadata": {},
   "outputs": [],
   "source": [
    "print('###########   EUR   ###########')\n",
    "print(3D_app_EUR['APPROVED_AMNT'].mean())\n",
    "print(3D_app_EUR['APPROVED_AMNT'].median())\n",
    "print('###########   GBP   ###########')\n",
    "print(3D_app_GBP['APPROVED_AMNT'].mean())\n",
    "print(3D_app_GBP['APPROVED_AMNT'].median())\n",
    "print('###########   USD   ###########')\n",
    "print(3D_app_USD['APPROVED_AMNT'].mean())\n",
    "print(3D_app_USD['APPROVED_AMNT'].median())"
   ]
  },
  {
   "cell_type": "markdown",
   "metadata": {},
   "source": [
    "# acceptance rate by country "
   ]
  },
  {
   "cell_type": "code",
   "execution_count": null,
   "metadata": {},
   "outputs": [],
   "source": [
    "group_country=3D_secure.groupby(['APPROVED']).BIN_COUNTRY_DESC.value_counts(normalize=True).to_frame()\n",
    "group_country"
   ]
  },
  {
   "cell_type": "markdown",
   "metadata": {},
   "source": [
    "# top 3 approval purchase"
   ]
  },
  {
   "cell_type": "code",
   "execution_count": null,
   "metadata": {},
   "outputs": [],
   "source": [
    "3D_secure_approved['GTW_Visa_MCC_Desc'].value_counts().head(3)\n",
    "non_3D_approved['GTW_Visa_MCC_Desc'].value_counts().head(3)"
   ]
  },
  {
   "cell_type": "markdown",
   "metadata": {},
   "source": [
    "#  bin-api integration"
   ]
  },
  {
   "cell_type": "code",
   "execution_count": null,
   "metadata": {},
   "outputs": [],
   "source": [
    "bin_list = []\n",
    "# For each bin number, we access its information through its API\n",
    "for i in bin_3d['BIN']:\n",
    "    num = \"{}\".format(i)\n",
    "    \n",
    "    JSONContent = requests.get('https://neutrinoapi.com/bin-lookup?user-id=****' + num).json()\n",
    "    bin_list.append([i,JSONContent['country'], JSONContent['card-type'], JSONContent['card-brand'],\n",
    "                         JSONContent['card-category'], JSONContent['issuer']])\n",
    "                         \n",
    "data = pd.DataFrame(bin_list)"
   ]
  },
  {
   "cell_type": "code",
   "execution_count": null,
   "metadata": {},
   "outputs": [],
   "source": [
    "data.rename(columns = {0:'BIN',1:'country',2:'card-type',3:'card-brand',4:'card-category',5:'issuer'},inplace=True)"
   ]
  },
  {
   "cell_type": "code",
   "execution_count": null,
   "metadata": {},
   "outputs": [],
   "source": [
    "result = pd.merge(data,bin_3d,on='BIN')#.reindex(bin_3d_10.index)], axis=1"
   ]
  },
  {
   "cell_type": "markdown",
   "metadata": {},
   "source": [
    "# Prediction approved transaction"
   ]
  },
  {
   "cell_type": "code",
   "execution_count": null,
   "metadata": {},
   "outputs": [],
   "source": [
    "predictors = train.drop(['APPROVED_AMNT'], axis=1)\n",
    "target = train[\"APPROVED_AMNT\"]\n",
    "x_train, x_val, y_train, y_val = train_test_split(predictors, target, test_size = 0.22, random_state = 0)"
   ]
  },
  {
   "cell_type": "code",
   "execution_count": null,
   "metadata": {},
   "outputs": [],
   "source": [
    "from sklearn.ensemble import GradientBoostingClassifier\n",
    "from sklearn.metrics import accuracy_score\n",
    "gbk = GradientBoostingClassifier()\n",
    "gbk.fit(x_train, y_train)\n",
    "y_pred = gbk.predict(x_val)\n",
    "acc_gbk = round(accuracy_score(y_pred, y_val) * 100, 2)\n",
    "print(acc_gbk)"
   ]
  },
  {
   "cell_type": "code",
   "execution_count": null,
   "metadata": {},
   "outputs": [],
   "source": [
    "test_pred = pd.DataFrame(y_pred, columns= ['APPROVED_AMNT'])"
   ]
  },
  {
   "cell_type": "code",
   "execution_count": null,
   "metadata": {},
   "outputs": [],
   "source": [
    "test_pred = pd.DataFrame(y_pred, columns= ['APPROVED_AMNT'])"
   ]
  },
  {
   "cell_type": "code",
   "execution_count": null,
   "metadata": {},
   "outputs": [],
   "source": [
    "new_test"
   ]
  }
 ],
 "metadata": {
  "kernelspec": {
   "display_name": "Python 3",
   "language": "python",
   "name": "python3"
  },
  "language_info": {
   "codemirror_mode": {
    "name": "ipython",
    "version": 3
   },
   "file_extension": ".py",
   "mimetype": "text/x-python",
   "name": "python",
   "nbconvert_exporter": "python",
   "pygments_lexer": "ipython3",
   "version": "3.6.8"
  }
 },
 "nbformat": 4,
 "nbformat_minor": 4
}
